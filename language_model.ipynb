{
 "cells": [
  {
   "cell_type": "code",
   "execution_count": 167,
   "id": "initial_id",
   "metadata": {
    "collapsed": true,
    "ExecuteTime": {
     "end_time": "2024-01-10T21:18:13.235696700Z",
     "start_time": "2024-01-10T21:18:13.194805Z"
    }
   },
   "outputs": [],
   "source": [
    "import pandas as pd\n",
    "from sklearn.model_selection import train_test_split"
   ]
  },
  {
   "cell_type": "code",
   "execution_count": 168,
   "outputs": [],
   "source": [
    "language_dicts = {\n",
    "    \"english\": \"data/english.txt\",\n",
    "    \"finnish\": \"data/finnish.txt\",\n",
    "    \"german\": \"data/german.txt\",\n",
    "    \"italian\": \"data/italian.txt\",\n",
    "    \"polish\": \"data/polish.txt\",\n",
    "    \"spanish\": \"data/spanish.txt\"\n",
    "}"
   ],
   "metadata": {
    "collapsed": false,
    "ExecuteTime": {
     "end_time": "2024-01-10T21:18:13.275589200Z",
     "start_time": "2024-01-10T21:18:13.207770900Z"
    }
   },
   "id": "869e179b2d4af8df"
  },
  {
   "cell_type": "code",
   "execution_count": 169,
   "outputs": [],
   "source": [
    "def split_text_to_parts(text, num_parts=1000):\n",
    "    part_size = len(text) // num_parts\n",
    "    return [text[i:i + part_size] for i in range(0, len(text), part_size)][:num_parts]"
   ],
   "metadata": {
    "collapsed": false,
    "ExecuteTime": {
     "end_time": "2024-01-10T21:18:13.275589200Z",
     "start_time": "2024-01-10T21:18:13.221733500Z"
    }
   },
   "id": "29655389bf442270"
  },
  {
   "cell_type": "code",
   "execution_count": 170,
   "outputs": [],
   "source": [
    "data = []\n",
    "\n",
    "for language, file_path in language_dicts.items():\n",
    "    with open(file_path, 'r', encoding='ISO-8859-1') as in_file:\n",
    "        text = in_file.read()\n",
    "        parts = split_text_to_parts(text)\n",
    "        for part in parts:\n",
    "            data.append({\"Text\": part, \"Language\": language})"
   ],
   "metadata": {
    "collapsed": false,
    "ExecuteTime": {
     "end_time": "2024-01-10T21:18:13.299525900Z",
     "start_time": "2024-01-10T21:18:13.238688800Z"
    }
   },
   "id": "da37405baaa888ec"
  },
  {
   "cell_type": "code",
   "execution_count": 171,
   "outputs": [],
   "source": [
    "df = pd.DataFrame(data)"
   ],
   "metadata": {
    "collapsed": false,
    "ExecuteTime": {
     "end_time": "2024-01-10T21:18:13.326453500Z",
     "start_time": "2024-01-10T21:18:13.301520300Z"
    }
   },
   "id": "99936e41574db665"
  },
  {
   "cell_type": "code",
   "execution_count": 172,
   "outputs": [
    {
     "data": {
      "text/plain": "Language\nenglish    1000\nfinnish    1000\ngerman     1000\nitalian    1000\npolish     1000\nspanish    1000\nName: count, dtype: int64"
     },
     "execution_count": 172,
     "metadata": {},
     "output_type": "execute_result"
    }
   ],
   "source": [
    "#Sprawdzenie\n",
    "def count_records_by_language():\n",
    "    return df['Language'].value_counts()\n",
    "\n",
    "count_records_by_language()"
   ],
   "metadata": {
    "collapsed": false,
    "ExecuteTime": {
     "end_time": "2024-01-10T21:18:13.339418700Z",
     "start_time": "2024-01-10T21:18:13.314485300Z"
    }
   },
   "id": "17dfc8dc546b4b99"
  },
  {
   "cell_type": "code",
   "execution_count": 173,
   "outputs": [],
   "source": [
    "train_data = []\n",
    "test_data = []\n",
    "\n",
    "for language in df['Language'].unique():\n",
    "    language_data = df[df['Language'] == language]\n",
    "    language_train, language_test = train_test_split(language_data, test_size=0.2, random_state=42)\n",
    "    \n",
    "    train_data.append(language_train.sample(800, random_state=42))\n",
    "    test_data.append(language_test.sample(200, random_state=42))\n",
    "\n",
    "train_df = pd.concat(train_data)\n",
    "test_df = pd.concat(test_data)"
   ],
   "metadata": {
    "collapsed": false,
    "ExecuteTime": {
     "end_time": "2024-01-10T21:18:13.370335700Z",
     "start_time": "2024-01-10T21:18:13.333434900Z"
    }
   },
   "id": "7f2ee666255b6b26"
  },
  {
   "cell_type": "code",
   "execution_count": 174,
   "outputs": [
    {
     "name": "stdout",
     "output_type": "stream",
     "text": [
      "Rozmiar zestawu treningowego: (4800, 2)\n",
      "Rozmiar zestawu testowego: (1200, 2)\n"
     ]
    }
   ],
   "source": [
    "train_df = train_df.sample(frac=1, random_state=42).reset_index(drop=True)\n",
    "test_df = test_df.sample(frac=1, random_state=42).reset_index(drop=True)\n",
    "\n",
    "print(f\"Rozmiar zestawu treningowego: {train_df.shape}\")\n",
    "print(f\"Rozmiar zestawu testowego: {test_df.shape}\")"
   ],
   "metadata": {
    "collapsed": false,
    "ExecuteTime": {
     "end_time": "2024-01-10T21:18:13.387291300Z",
     "start_time": "2024-01-10T21:18:13.363354800Z"
    }
   },
   "id": "69b068340ee938ef"
  },
  {
   "cell_type": "code",
   "execution_count": 175,
   "outputs": [],
   "source": [
    "from sklearn.feature_extraction.text import CountVectorizer\n",
    "\n",
    "vectorizer = CountVectorizer(analyzer='char', ngram_range=(3, 3))\n",
    "\n",
    "\n",
    "X_train = vectorizer.fit_transform(train_df['Text'])\n",
    "X_test = vectorizer.transform(test_df['Text'])\n",
    "y_train = train_df['Language']\n",
    "y_test = test_df['Language']"
   ],
   "metadata": {
    "collapsed": false,
    "ExecuteTime": {
     "end_time": "2024-01-10T21:18:21.256647500Z",
     "start_time": "2024-01-10T21:18:13.378314500Z"
    }
   },
   "id": "e5cef2e9458ea028"
  },
  {
   "cell_type": "code",
   "execution_count": 176,
   "outputs": [],
   "source": [
    "from sklearn.naive_bayes import MultinomialNB\n",
    "from sklearn.linear_model import LogisticRegression\n",
    "from sklearn.ensemble import RandomForestClassifier\n",
    "\n",
    "models = {\n",
    "    \"Naive Bayes\": MultinomialNB(),\n",
    "    \"Logistic Regression\": LogisticRegression(max_iter=1000),\n",
    "    \"Random Forest\": RandomForestClassifier(n_estimators=100)\n",
    "}"
   ],
   "metadata": {
    "collapsed": false,
    "ExecuteTime": {
     "end_time": "2024-01-10T21:18:21.271579100Z",
     "start_time": "2024-01-10T21:18:21.258614900Z"
    }
   },
   "id": "72b3bd0b7b1c399b"
  },
  {
   "cell_type": "code",
   "execution_count": 177,
   "outputs": [
    {
     "name": "stdout",
     "output_type": "stream",
     "text": [
      "Naive Bayes trained.\n",
      "Logistic Regression trained.\n",
      "Random Forest trained.\n"
     ]
    }
   ],
   "source": [
    "for name, model in models.items():\n",
    "    model.fit(X_train, y_train)\n",
    "    print(f\"{name} trained.\")"
   ],
   "metadata": {
    "collapsed": false,
    "ExecuteTime": {
     "end_time": "2024-01-10T21:18:49.966835700Z",
     "start_time": "2024-01-10T21:18:21.274575300Z"
    }
   },
   "id": "c2e9d43f64224e44"
  },
  {
   "cell_type": "code",
   "execution_count": 178,
   "outputs": [
    {
     "name": "stdout",
     "output_type": "stream",
     "text": [
      "Model: Naive Bayes\n",
      "              precision    recall  f1-score   support\n",
      "\n",
      "     english       1.00      1.00      1.00       200\n",
      "     finnish       1.00      1.00      1.00       200\n",
      "      german       1.00      1.00      1.00       200\n",
      "     italian       1.00      1.00      1.00       200\n",
      "      polish       1.00      0.99      1.00       200\n",
      "     spanish       1.00      1.00      1.00       200\n",
      "\n",
      "    accuracy                           1.00      1200\n",
      "   macro avg       1.00      1.00      1.00      1200\n",
      "weighted avg       1.00      1.00      1.00      1200\n",
      "\n",
      "\n",
      "Model: Logistic Regression\n",
      "              precision    recall  f1-score   support\n",
      "\n",
      "     english       1.00      1.00      1.00       200\n",
      "     finnish       1.00      1.00      1.00       200\n",
      "      german       1.00      1.00      1.00       200\n",
      "     italian       1.00      1.00      1.00       200\n",
      "      polish       1.00      1.00      1.00       200\n",
      "     spanish       1.00      1.00      1.00       200\n",
      "\n",
      "    accuracy                           1.00      1200\n",
      "   macro avg       1.00      1.00      1.00      1200\n",
      "weighted avg       1.00      1.00      1.00      1200\n",
      "\n",
      "Model: Random Forest\n",
      "              precision    recall  f1-score   support\n",
      "\n",
      "     english       1.00      1.00      1.00       200\n",
      "     finnish       1.00      1.00      1.00       200\n",
      "      german       1.00      1.00      1.00       200\n",
      "     italian       1.00      1.00      1.00       200\n",
      "      polish       1.00      1.00      1.00       200\n",
      "     spanish       1.00      1.00      1.00       200\n",
      "\n",
      "    accuracy                           1.00      1200\n",
      "   macro avg       1.00      1.00      1.00      1200\n",
      "weighted avg       1.00      1.00      1.00      1200\n"
     ]
    }
   ],
   "source": [
    "from sklearn.metrics import classification_report\n",
    "\n",
    "for name, model in models.items():\n",
    "    y_pred = model.predict(X_test)\n",
    "    report = classification_report(y_test, y_pred)\n",
    "    print(f\"Model: {name}\\n{report}\\n\")"
   ],
   "metadata": {
    "collapsed": false,
    "ExecuteTime": {
     "end_time": "2024-01-10T21:18:50.327114600Z",
     "start_time": "2024-01-10T21:18:49.965838700Z"
    }
   },
   "id": "7daa52cfd0d6e232"
  }
 ],
 "metadata": {
  "kernelspec": {
   "display_name": "Python 3",
   "language": "python",
   "name": "python3"
  },
  "language_info": {
   "codemirror_mode": {
    "name": "ipython",
    "version": 2
   },
   "file_extension": ".py",
   "mimetype": "text/x-python",
   "name": "python",
   "nbconvert_exporter": "python",
   "pygments_lexer": "ipython2",
   "version": "2.7.6"
  }
 },
 "nbformat": 4,
 "nbformat_minor": 5
}
