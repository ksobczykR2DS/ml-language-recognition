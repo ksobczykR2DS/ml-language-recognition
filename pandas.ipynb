{
 "cells": [
  {
   "cell_type": "code",
   "execution_count": 111,
   "id": "initial_id",
   "metadata": {
    "collapsed": true,
    "ExecuteTime": {
     "end_time": "2023-12-30T16:19:21.248398800Z",
     "start_time": "2023-12-30T16:19:21.224479700Z"
    }
   },
   "outputs": [],
   "source": [
    "import pandas as pd"
   ]
  },
  {
   "cell_type": "code",
   "execution_count": 112,
   "outputs": [],
   "source": [
    "# Wczytaj plik EURUSD30.csv (źródło: Kaggle). Kolejne kolumny to: DateTime, Open, High, Low, Close, Volume.\n",
    "df = pd.read_csv('data/EURUSD30.csv', sep='\\t')\n",
    "df.columns = ['DateTime', 'Open', 'High', 'Low', 'Close', 'Volume']"
   ],
   "metadata": {
    "collapsed": false,
    "ExecuteTime": {
     "end_time": "2023-12-30T16:19:21.294245600Z",
     "start_time": "2023-12-30T16:19:21.234406100Z"
    }
   },
   "id": "a37e334fdda26f67"
  },
  {
   "cell_type": "code",
   "execution_count": 113,
   "outputs": [
    {
     "data": {
      "text/plain": "               DateTime     Open     High      Low    Close  Volume\n0      2017-12-13 11:00  1.17512  1.17514  1.17441  1.17443    4270\n1      2017-12-13 11:30  1.17442  1.17444  1.17381  1.17393    4540\n2      2017-12-13 12:00  1.17392  1.17427  1.17334  1.17351    5130\n3      2017-12-13 12:30  1.17351  1.17401  1.17300  1.17401    5204\n4      2017-12-13 13:00  1.17398  1.17409  1.17294  1.17353    4958\n...                 ...      ...      ...      ...      ...     ...\n49994  2021-12-20 11:30  1.12723  1.12767  1.12681  1.12703    1144\n49995  2021-12-20 12:00  1.12704  1.12765  1.12683  1.12713    1345\n49996  2021-12-20 12:30  1.12714  1.12746  1.12680  1.12685    1589\n49997  2021-12-20 13:00  1.12684  1.12778  1.12684  1.12768    2231\n49998  2021-12-20 13:30  1.12766  1.12981  1.12766  1.12931    2687\n\n[49999 rows x 6 columns]",
      "text/html": "<div>\n<style scoped>\n    .dataframe tbody tr th:only-of-type {\n        vertical-align: middle;\n    }\n\n    .dataframe tbody tr th {\n        vertical-align: top;\n    }\n\n    .dataframe thead th {\n        text-align: right;\n    }\n</style>\n<table border=\"1\" class=\"dataframe\">\n  <thead>\n    <tr style=\"text-align: right;\">\n      <th></th>\n      <th>DateTime</th>\n      <th>Open</th>\n      <th>High</th>\n      <th>Low</th>\n      <th>Close</th>\n      <th>Volume</th>\n    </tr>\n  </thead>\n  <tbody>\n    <tr>\n      <th>0</th>\n      <td>2017-12-13 11:00</td>\n      <td>1.17512</td>\n      <td>1.17514</td>\n      <td>1.17441</td>\n      <td>1.17443</td>\n      <td>4270</td>\n    </tr>\n    <tr>\n      <th>1</th>\n      <td>2017-12-13 11:30</td>\n      <td>1.17442</td>\n      <td>1.17444</td>\n      <td>1.17381</td>\n      <td>1.17393</td>\n      <td>4540</td>\n    </tr>\n    <tr>\n      <th>2</th>\n      <td>2017-12-13 12:00</td>\n      <td>1.17392</td>\n      <td>1.17427</td>\n      <td>1.17334</td>\n      <td>1.17351</td>\n      <td>5130</td>\n    </tr>\n    <tr>\n      <th>3</th>\n      <td>2017-12-13 12:30</td>\n      <td>1.17351</td>\n      <td>1.17401</td>\n      <td>1.17300</td>\n      <td>1.17401</td>\n      <td>5204</td>\n    </tr>\n    <tr>\n      <th>4</th>\n      <td>2017-12-13 13:00</td>\n      <td>1.17398</td>\n      <td>1.17409</td>\n      <td>1.17294</td>\n      <td>1.17353</td>\n      <td>4958</td>\n    </tr>\n    <tr>\n      <th>...</th>\n      <td>...</td>\n      <td>...</td>\n      <td>...</td>\n      <td>...</td>\n      <td>...</td>\n      <td>...</td>\n    </tr>\n    <tr>\n      <th>49994</th>\n      <td>2021-12-20 11:30</td>\n      <td>1.12723</td>\n      <td>1.12767</td>\n      <td>1.12681</td>\n      <td>1.12703</td>\n      <td>1144</td>\n    </tr>\n    <tr>\n      <th>49995</th>\n      <td>2021-12-20 12:00</td>\n      <td>1.12704</td>\n      <td>1.12765</td>\n      <td>1.12683</td>\n      <td>1.12713</td>\n      <td>1345</td>\n    </tr>\n    <tr>\n      <th>49996</th>\n      <td>2021-12-20 12:30</td>\n      <td>1.12714</td>\n      <td>1.12746</td>\n      <td>1.12680</td>\n      <td>1.12685</td>\n      <td>1589</td>\n    </tr>\n    <tr>\n      <th>49997</th>\n      <td>2021-12-20 13:00</td>\n      <td>1.12684</td>\n      <td>1.12778</td>\n      <td>1.12684</td>\n      <td>1.12768</td>\n      <td>2231</td>\n    </tr>\n    <tr>\n      <th>49998</th>\n      <td>2021-12-20 13:30</td>\n      <td>1.12766</td>\n      <td>1.12981</td>\n      <td>1.12766</td>\n      <td>1.12931</td>\n      <td>2687</td>\n    </tr>\n  </tbody>\n</table>\n<p>49999 rows × 6 columns</p>\n</div>"
     },
     "execution_count": 113,
     "metadata": {},
     "output_type": "execute_result"
    }
   ],
   "source": [
    "df"
   ],
   "metadata": {
    "collapsed": false,
    "ExecuteTime": {
     "end_time": "2023-12-30T16:19:21.312225900Z",
     "start_time": "2023-12-30T16:19:21.296261900Z"
    }
   },
   "id": "c138dc5d6b7b50d0"
  },
  {
   "cell_type": "code",
   "execution_count": 114,
   "outputs": [
    {
     "data": {
      "text/plain": "DateTime    0\nOpen        0\nHigh        0\nLow         0\nClose       0\nVolume      0\ndtype: int64"
     },
     "execution_count": 114,
     "metadata": {},
     "output_type": "execute_result"
    }
   ],
   "source": [
    "# Odfiltruj wiersze z brakującymi danymi\n",
    "df.isnull().sum()"
   ],
   "metadata": {
    "collapsed": false,
    "ExecuteTime": {
     "end_time": "2023-12-30T16:19:21.342313800Z",
     "start_time": "2023-12-30T16:19:21.311201500Z"
    }
   },
   "id": "42d1590e96c0c3de"
  },
  {
   "cell_type": "code",
   "execution_count": 115,
   "outputs": [],
   "source": [
    "# Utwórz DataFrame zawierające te same dane, ale w ujęciu dziennym.\n",
    "\n",
    "df['DateTime'] = pd.to_datetime(df['DateTime'])\n",
    "df['Date'] = df['DateTime'].dt.date\n",
    "\n",
    "grouped_data = df.groupby('Date').agg(\n",
    "    {'Open': 'first',\n",
    "    'High': 'max',\n",
    "    'Low': 'min',\n",
    "    'Close': 'last',\n",
    "    'Volume': 'sum'})"
   ],
   "metadata": {
    "collapsed": false,
    "ExecuteTime": {
     "end_time": "2023-12-30T16:19:21.422101800Z",
     "start_time": "2023-12-30T16:19:21.328155500Z"
    }
   },
   "id": "687e5edb072e41df"
  },
  {
   "cell_type": "code",
   "execution_count": 116,
   "outputs": [
    {
     "data": {
      "text/plain": "               Open     High      Low    Close  Volume\nDate                                                  \n2017-12-13  1.17512  1.18404  1.17294  1.18361  155056\n2017-12-14  1.18361  1.18625  1.17645  1.17745  241280\n2017-12-15  1.17745  1.18123  1.17488  1.17492  200462\n2017-12-17  1.17441  1.17509  1.17377  1.17432    8500\n2017-12-18  1.17432  1.18342  1.17420  1.17837  199846\n...             ...      ...      ...      ...     ...\n2021-12-15  1.12575  1.12991  1.12215  1.12902  114369\n2021-12-16  1.12903  1.13603  1.12811  1.13336   81934\n2021-12-17  1.13335  1.13488  1.12350  1.12370   71994\n2021-12-19  1.12371  1.12439  1.12344  1.12428    1888\n2021-12-20  1.12426  1.12981  1.12363  1.12931   44619\n\n[1257 rows x 5 columns]",
      "text/html": "<div>\n<style scoped>\n    .dataframe tbody tr th:only-of-type {\n        vertical-align: middle;\n    }\n\n    .dataframe tbody tr th {\n        vertical-align: top;\n    }\n\n    .dataframe thead th {\n        text-align: right;\n    }\n</style>\n<table border=\"1\" class=\"dataframe\">\n  <thead>\n    <tr style=\"text-align: right;\">\n      <th></th>\n      <th>Open</th>\n      <th>High</th>\n      <th>Low</th>\n      <th>Close</th>\n      <th>Volume</th>\n    </tr>\n    <tr>\n      <th>Date</th>\n      <th></th>\n      <th></th>\n      <th></th>\n      <th></th>\n      <th></th>\n    </tr>\n  </thead>\n  <tbody>\n    <tr>\n      <th>2017-12-13</th>\n      <td>1.17512</td>\n      <td>1.18404</td>\n      <td>1.17294</td>\n      <td>1.18361</td>\n      <td>155056</td>\n    </tr>\n    <tr>\n      <th>2017-12-14</th>\n      <td>1.18361</td>\n      <td>1.18625</td>\n      <td>1.17645</td>\n      <td>1.17745</td>\n      <td>241280</td>\n    </tr>\n    <tr>\n      <th>2017-12-15</th>\n      <td>1.17745</td>\n      <td>1.18123</td>\n      <td>1.17488</td>\n      <td>1.17492</td>\n      <td>200462</td>\n    </tr>\n    <tr>\n      <th>2017-12-17</th>\n      <td>1.17441</td>\n      <td>1.17509</td>\n      <td>1.17377</td>\n      <td>1.17432</td>\n      <td>8500</td>\n    </tr>\n    <tr>\n      <th>2017-12-18</th>\n      <td>1.17432</td>\n      <td>1.18342</td>\n      <td>1.17420</td>\n      <td>1.17837</td>\n      <td>199846</td>\n    </tr>\n    <tr>\n      <th>...</th>\n      <td>...</td>\n      <td>...</td>\n      <td>...</td>\n      <td>...</td>\n      <td>...</td>\n    </tr>\n    <tr>\n      <th>2021-12-15</th>\n      <td>1.12575</td>\n      <td>1.12991</td>\n      <td>1.12215</td>\n      <td>1.12902</td>\n      <td>114369</td>\n    </tr>\n    <tr>\n      <th>2021-12-16</th>\n      <td>1.12903</td>\n      <td>1.13603</td>\n      <td>1.12811</td>\n      <td>1.13336</td>\n      <td>81934</td>\n    </tr>\n    <tr>\n      <th>2021-12-17</th>\n      <td>1.13335</td>\n      <td>1.13488</td>\n      <td>1.12350</td>\n      <td>1.12370</td>\n      <td>71994</td>\n    </tr>\n    <tr>\n      <th>2021-12-19</th>\n      <td>1.12371</td>\n      <td>1.12439</td>\n      <td>1.12344</td>\n      <td>1.12428</td>\n      <td>1888</td>\n    </tr>\n    <tr>\n      <th>2021-12-20</th>\n      <td>1.12426</td>\n      <td>1.12981</td>\n      <td>1.12363</td>\n      <td>1.12931</td>\n      <td>44619</td>\n    </tr>\n  </tbody>\n</table>\n<p>1257 rows × 5 columns</p>\n</div>"
     },
     "execution_count": 116,
     "metadata": {},
     "output_type": "execute_result"
    }
   ],
   "source": [
    "grouped_data"
   ],
   "metadata": {
    "collapsed": false,
    "ExecuteTime": {
     "end_time": "2023-12-30T16:19:21.423099300Z",
     "start_time": "2023-12-30T16:19:21.391184800Z"
    }
   },
   "id": "6c12edae35ea69b7"
  },
  {
   "cell_type": "code",
   "execution_count": 117,
   "outputs": [
    {
     "data": {
      "text/plain": "               Open     High      Low    Close  Volume  PercentChange\nDate                                                                 \n2017-12-13  1.17512  1.18404  1.17294  1.18361  155056       0.722479\n2017-12-14  1.18361  1.18625  1.17645  1.17745  241280      -0.520442\n2017-12-15  1.17745  1.18123  1.17488  1.17492  200462      -0.214871\n2017-12-17  1.17441  1.17509  1.17377  1.17432    8500      -0.007663\n2017-12-18  1.17432  1.18342  1.17420  1.17837  199846       0.344880\n...             ...      ...      ...      ...     ...            ...\n2021-12-15  1.12575  1.12991  1.12215  1.12902  114369       0.290473\n2021-12-16  1.12903  1.13603  1.12811  1.13336   81934       0.383515\n2021-12-17  1.13335  1.13488  1.12350  1.12370   71994      -0.851458\n2021-12-19  1.12371  1.12439  1.12344  1.12428    1888       0.050725\n2021-12-20  1.12426  1.12981  1.12363  1.12931   44619       0.449184\n\n[1257 rows x 6 columns]",
      "text/html": "<div>\n<style scoped>\n    .dataframe tbody tr th:only-of-type {\n        vertical-align: middle;\n    }\n\n    .dataframe tbody tr th {\n        vertical-align: top;\n    }\n\n    .dataframe thead th {\n        text-align: right;\n    }\n</style>\n<table border=\"1\" class=\"dataframe\">\n  <thead>\n    <tr style=\"text-align: right;\">\n      <th></th>\n      <th>Open</th>\n      <th>High</th>\n      <th>Low</th>\n      <th>Close</th>\n      <th>Volume</th>\n      <th>PercentChange</th>\n    </tr>\n    <tr>\n      <th>Date</th>\n      <th></th>\n      <th></th>\n      <th></th>\n      <th></th>\n      <th></th>\n      <th></th>\n    </tr>\n  </thead>\n  <tbody>\n    <tr>\n      <th>2017-12-13</th>\n      <td>1.17512</td>\n      <td>1.18404</td>\n      <td>1.17294</td>\n      <td>1.18361</td>\n      <td>155056</td>\n      <td>0.722479</td>\n    </tr>\n    <tr>\n      <th>2017-12-14</th>\n      <td>1.18361</td>\n      <td>1.18625</td>\n      <td>1.17645</td>\n      <td>1.17745</td>\n      <td>241280</td>\n      <td>-0.520442</td>\n    </tr>\n    <tr>\n      <th>2017-12-15</th>\n      <td>1.17745</td>\n      <td>1.18123</td>\n      <td>1.17488</td>\n      <td>1.17492</td>\n      <td>200462</td>\n      <td>-0.214871</td>\n    </tr>\n    <tr>\n      <th>2017-12-17</th>\n      <td>1.17441</td>\n      <td>1.17509</td>\n      <td>1.17377</td>\n      <td>1.17432</td>\n      <td>8500</td>\n      <td>-0.007663</td>\n    </tr>\n    <tr>\n      <th>2017-12-18</th>\n      <td>1.17432</td>\n      <td>1.18342</td>\n      <td>1.17420</td>\n      <td>1.17837</td>\n      <td>199846</td>\n      <td>0.344880</td>\n    </tr>\n    <tr>\n      <th>...</th>\n      <td>...</td>\n      <td>...</td>\n      <td>...</td>\n      <td>...</td>\n      <td>...</td>\n      <td>...</td>\n    </tr>\n    <tr>\n      <th>2021-12-15</th>\n      <td>1.12575</td>\n      <td>1.12991</td>\n      <td>1.12215</td>\n      <td>1.12902</td>\n      <td>114369</td>\n      <td>0.290473</td>\n    </tr>\n    <tr>\n      <th>2021-12-16</th>\n      <td>1.12903</td>\n      <td>1.13603</td>\n      <td>1.12811</td>\n      <td>1.13336</td>\n      <td>81934</td>\n      <td>0.383515</td>\n    </tr>\n    <tr>\n      <th>2021-12-17</th>\n      <td>1.13335</td>\n      <td>1.13488</td>\n      <td>1.12350</td>\n      <td>1.12370</td>\n      <td>71994</td>\n      <td>-0.851458</td>\n    </tr>\n    <tr>\n      <th>2021-12-19</th>\n      <td>1.12371</td>\n      <td>1.12439</td>\n      <td>1.12344</td>\n      <td>1.12428</td>\n      <td>1888</td>\n      <td>0.050725</td>\n    </tr>\n    <tr>\n      <th>2021-12-20</th>\n      <td>1.12426</td>\n      <td>1.12981</td>\n      <td>1.12363</td>\n      <td>1.12931</td>\n      <td>44619</td>\n      <td>0.449184</td>\n    </tr>\n  </tbody>\n</table>\n<p>1257 rows × 6 columns</p>\n</div>"
     },
     "execution_count": 117,
     "metadata": {},
     "output_type": "execute_result"
    }
   ],
   "source": [
    "# Utwórz serię danych zawierającą procentowy wzrost (lub spadek) kursu w danym dniu (jako różnicę Open i Close).\n",
    "grouped_data['PercentChange'] = ((grouped_data['Close'] - grouped_data['Open']) / grouped_data['Open']) * 100\n",
    "\n",
    "# grouped_data['PercentChange'] = grouped_data['PercentChange'].round(2).astype(str) + '%'\n",
    "# grouped_data\n",
    "\n",
    "grouped_data[['Open', 'High', 'Low', 'Close', 'Volume', 'PercentChange']]"
   ],
   "metadata": {
    "collapsed": false,
    "ExecuteTime": {
     "end_time": "2023-12-30T16:19:21.450041500Z",
     "start_time": "2023-12-30T16:19:21.405147900Z"
    }
   },
   "id": "f30076cbdaea6de8"
  },
  {
   "cell_type": "code",
   "execution_count": 118,
   "outputs": [
    {
     "name": "stdout",
     "output_type": "stream",
     "text": [
      "Average percentage change: -0.0023%\n",
      "Standard deviation of percentage change: 0.3677%\n"
     ]
    }
   ],
   "source": [
    "# Oblicz średnią i odchylenie standardowe tej kolumny oraz narysuj histogram.\n",
    "mean_value = grouped_data['PercentChange'].mean()\n",
    "std_dev = grouped_data['PercentChange'].std()\n",
    "\n",
    "print(f\"Average percentage change: {mean_value:.4f}%\")\n",
    "print(f\"Standard deviation of percentage change: {std_dev:.4f}%\")"
   ],
   "metadata": {
    "collapsed": false,
    "ExecuteTime": {
     "end_time": "2023-12-30T16:19:21.472979300Z",
     "start_time": "2023-12-30T16:19:21.436066200Z"
    }
   },
   "id": "31049294e42d9958"
  },
  {
   "cell_type": "code",
   "execution_count": 119,
   "outputs": [
    {
     "data": {
      "text/plain": "<Figure size 1000x600 with 1 Axes>",
      "image/png": "[encoded data removed]"
     },
     "metadata": {},
     "output_type": "display_data"
    }
   ],
   "source": [
    "import matplotlib.pyplot as plt \n",
    "\n",
    "plt.figure(figsize=(10, 6))\n",
    "plt.hist(grouped_data['PercentChange'], bins=30, color='blue', edgecolor='black')\n",
    "plt.title('Histogram of Daily Percentage Changes')\n",
    "plt.xlabel('Daily Percentage Change')\n",
    "plt.ylabel('Number of days')\n",
    "plt.show()"
   ],
   "metadata": {
    "collapsed": false,
    "ExecuteTime": {
     "end_time": "2023-12-30T16:19:21.689575200Z",
     "start_time": "2023-12-30T16:19:21.451038200Z"
    }
   },
   "id": "e84cb4aa91cda0a2"
  }
 ],
 "metadata": {
  "kernelspec": {
   "display_name": "Python 3",
   "language": "python",
   "name": "python3"
  },
  "language_info": {
   "codemirror_mode": {
    "name": "ipython",
    "version": 2
   },
   "file_extension": ".py",
   "mimetype": "text/x-python",
   "name": "python",
   "nbconvert_exporter": "python",
   "pygments_lexer": "ipython2",
   "version": "2.7.6"
  }
 },
 "nbformat": 4,
 "nbformat_minor": 5
}
