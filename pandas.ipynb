{
 "cells": [
  {
   "cell_type": "code",
   "execution_count": 242,
   "id": "initial_id",
   "metadata": {
    "collapsed": true,
    "ExecuteTime": {
     "end_time": "2023-12-30T14:36:03.590816400Z",
     "start_time": "2023-12-30T14:36:03.556883600Z"
    }
   },
   "outputs": [],
   "source": [
    "import pandas as pd"
   ]
  },
  {
   "cell_type": "code",
   "execution_count": 243,
   "outputs": [],
   "source": [
    "# Wczytaj plik EURUSD30.csv (źródło: Kaggle). Kolejne kolumny to: DateTime, Open, High, Low, Close, Volume.\n",
    "df = pd.read_csv('data/EURUSD30.csv', sep='\\t')\n",
    "df.columns = ['DateTime', 'Open', 'High', 'Low', 'Close', 'Volume']"
   ],
   "metadata": {
    "collapsed": false,
    "ExecuteTime": {
     "end_time": "2023-12-30T14:36:03.648311800Z",
     "start_time": "2023-12-30T14:36:03.563861400Z"
    }
   },
   "id": "a37e334fdda26f67"
  },
  {
   "cell_type": "code",
   "execution_count": 244,
   "outputs": [
    {
     "data": {
      "text/plain": "           DateTime     Open     High      Low    Close  Volume\n0  2017-12-13 11:00  1.17512  1.17514  1.17441  1.17443    4270\n1  2017-12-13 11:30  1.17442  1.17444  1.17381  1.17393    4540\n2  2017-12-13 12:00  1.17392  1.17427  1.17334  1.17351    5130\n3  2017-12-13 12:30  1.17351  1.17401  1.17300  1.17401    5204\n4  2017-12-13 13:00  1.17398  1.17409  1.17294  1.17353    4958",
      "text/html": "<div>\n<style scoped>\n    .dataframe tbody tr th:only-of-type {\n        vertical-align: middle;\n    }\n\n    .dataframe tbody tr th {\n        vertical-align: top;\n    }\n\n    .dataframe thead th {\n        text-align: right;\n    }\n</style>\n<table border=\"1\" class=\"dataframe\">\n  <thead>\n    <tr style=\"text-align: right;\">\n      <th></th>\n      <th>DateTime</th>\n      <th>Open</th>\n      <th>High</th>\n      <th>Low</th>\n      <th>Close</th>\n      <th>Volume</th>\n    </tr>\n  </thead>\n  <tbody>\n    <tr>\n      <th>0</th>\n      <td>2017-12-13 11:00</td>\n      <td>1.17512</td>\n      <td>1.17514</td>\n      <td>1.17441</td>\n      <td>1.17443</td>\n      <td>4270</td>\n    </tr>\n    <tr>\n      <th>1</th>\n      <td>2017-12-13 11:30</td>\n      <td>1.17442</td>\n      <td>1.17444</td>\n      <td>1.17381</td>\n      <td>1.17393</td>\n      <td>4540</td>\n    </tr>\n    <tr>\n      <th>2</th>\n      <td>2017-12-13 12:00</td>\n      <td>1.17392</td>\n      <td>1.17427</td>\n      <td>1.17334</td>\n      <td>1.17351</td>\n      <td>5130</td>\n    </tr>\n    <tr>\n      <th>3</th>\n      <td>2017-12-13 12:30</td>\n      <td>1.17351</td>\n      <td>1.17401</td>\n      <td>1.17300</td>\n      <td>1.17401</td>\n      <td>5204</td>\n    </tr>\n    <tr>\n      <th>4</th>\n      <td>2017-12-13 13:00</td>\n      <td>1.17398</td>\n      <td>1.17409</td>\n      <td>1.17294</td>\n      <td>1.17353</td>\n      <td>4958</td>\n    </tr>\n  </tbody>\n</table>\n</div>"
     },
     "execution_count": 244,
     "metadata": {},
     "output_type": "execute_result"
    }
   ],
   "source": [
    "df.head()"
   ],
   "metadata": {
    "collapsed": false,
    "ExecuteTime": {
     "end_time": "2023-12-30T14:36:03.649310500Z",
     "start_time": "2023-12-30T14:36:03.625710600Z"
    }
   },
   "id": "c138dc5d6b7b50d0"
  },
  {
   "cell_type": "code",
   "execution_count": 245,
   "outputs": [
    {
     "data": {
      "text/plain": "DateTime    0\nOpen        0\nHigh        0\nLow         0\nClose       0\nVolume      0\ndtype: int64"
     },
     "execution_count": 245,
     "metadata": {},
     "output_type": "execute_result"
    }
   ],
   "source": [
    "# Odfiltruj wiersze z brakującymi danymi\n",
    "df.isnull().sum()"
   ],
   "metadata": {
    "collapsed": false,
    "ExecuteTime": {
     "end_time": "2023-12-30T14:36:03.657267400Z",
     "start_time": "2023-12-30T14:36:03.643304100Z"
    }
   },
   "id": "42d1590e96c0c3de"
  },
  {
   "cell_type": "code",
   "execution_count": 246,
   "outputs": [],
   "source": [
    "# Utwórz DataFrame zawierające te same dane, ale w ujęciu dziennym.\n",
    "\n",
    "df['DateTime'] = pd.to_datetime(df['DateTime'])\n",
    "\n",
    "df['Date'] = df['DateTime'].dt.date\n",
    "\n",
    "grouped_df = df.groupby('Date').agg({\n",
    "    'Open': 'first',\n",
    "    'High': 'max',\n",
    "    'Low': 'min',\n",
    "    'Close': 'last',\n",
    "    'Volume': 'sum'\n",
    "})"
   ],
   "metadata": {
    "collapsed": false,
    "ExecuteTime": {
     "end_time": "2023-12-30T14:36:03.748071200Z",
     "start_time": "2023-12-30T14:36:03.660259200Z"
    }
   },
   "id": "687e5edb072e41df"
  },
  {
   "cell_type": "code",
   "execution_count": 247,
   "outputs": [
    {
     "data": {
      "text/plain": "               Open     High      Low    Close  Volume\nDate                                                  \n2017-12-13  1.17512  1.18404  1.17294  1.18361  155056\n2017-12-14  1.18361  1.18625  1.17645  1.17745  241280\n2017-12-15  1.17745  1.18123  1.17488  1.17492  200462\n2017-12-17  1.17441  1.17509  1.17377  1.17432    8500\n2017-12-18  1.17432  1.18342  1.17420  1.17837  199846",
      "text/html": "<div>\n<style scoped>\n    .dataframe tbody tr th:only-of-type {\n        vertical-align: middle;\n    }\n\n    .dataframe tbody tr th {\n        vertical-align: top;\n    }\n\n    .dataframe thead th {\n        text-align: right;\n    }\n</style>\n<table border=\"1\" class=\"dataframe\">\n  <thead>\n    <tr style=\"text-align: right;\">\n      <th></th>\n      <th>Open</th>\n      <th>High</th>\n      <th>Low</th>\n      <th>Close</th>\n      <th>Volume</th>\n    </tr>\n    <tr>\n      <th>Date</th>\n      <th></th>\n      <th></th>\n      <th></th>\n      <th></th>\n      <th></th>\n    </tr>\n  </thead>\n  <tbody>\n    <tr>\n      <th>2017-12-13</th>\n      <td>1.17512</td>\n      <td>1.18404</td>\n      <td>1.17294</td>\n      <td>1.18361</td>\n      <td>155056</td>\n    </tr>\n    <tr>\n      <th>2017-12-14</th>\n      <td>1.18361</td>\n      <td>1.18625</td>\n      <td>1.17645</td>\n      <td>1.17745</td>\n      <td>241280</td>\n    </tr>\n    <tr>\n      <th>2017-12-15</th>\n      <td>1.17745</td>\n      <td>1.18123</td>\n      <td>1.17488</td>\n      <td>1.17492</td>\n      <td>200462</td>\n    </tr>\n    <tr>\n      <th>2017-12-17</th>\n      <td>1.17441</td>\n      <td>1.17509</td>\n      <td>1.17377</td>\n      <td>1.17432</td>\n      <td>8500</td>\n    </tr>\n    <tr>\n      <th>2017-12-18</th>\n      <td>1.17432</td>\n      <td>1.18342</td>\n      <td>1.17420</td>\n      <td>1.17837</td>\n      <td>199846</td>\n    </tr>\n  </tbody>\n</table>\n</div>"
     },
     "execution_count": 247,
     "metadata": {},
     "output_type": "execute_result"
    }
   ],
   "source": [
    "grouped_df.head()"
   ],
   "metadata": {
    "collapsed": false,
    "ExecuteTime": {
     "end_time": "2023-12-30T14:36:03.754053300Z",
     "start_time": "2023-12-30T14:36:03.720100200Z"
    }
   },
   "id": "6c12edae35ea69b7"
  },
  {
   "cell_type": "code",
   "execution_count": 248,
   "outputs": [
    {
     "data": {
      "text/plain": "               Open     High      Low    Close  Volume  PercentChange\nDate                                                                 \n2017-12-13  1.17512  1.18404  1.17294  1.18361  155056       0.722479\n2017-12-14  1.18361  1.18625  1.17645  1.17745  241280      -0.520442\n2017-12-15  1.17745  1.18123  1.17488  1.17492  200462      -0.214871\n2017-12-17  1.17441  1.17509  1.17377  1.17432    8500      -0.007663\n2017-12-18  1.17432  1.18342  1.17420  1.17837  199846       0.344880",
      "text/html": "<div>\n<style scoped>\n    .dataframe tbody tr th:only-of-type {\n        vertical-align: middle;\n    }\n\n    .dataframe tbody tr th {\n        vertical-align: top;\n    }\n\n    .dataframe thead th {\n        text-align: right;\n    }\n</style>\n<table border=\"1\" class=\"dataframe\">\n  <thead>\n    <tr style=\"text-align: right;\">\n      <th></th>\n      <th>Open</th>\n      <th>High</th>\n      <th>Low</th>\n      <th>Close</th>\n      <th>Volume</th>\n      <th>PercentChange</th>\n    </tr>\n    <tr>\n      <th>Date</th>\n      <th></th>\n      <th></th>\n      <th></th>\n      <th></th>\n      <th></th>\n      <th></th>\n    </tr>\n  </thead>\n  <tbody>\n    <tr>\n      <th>2017-12-13</th>\n      <td>1.17512</td>\n      <td>1.18404</td>\n      <td>1.17294</td>\n      <td>1.18361</td>\n      <td>155056</td>\n      <td>0.722479</td>\n    </tr>\n    <tr>\n      <th>2017-12-14</th>\n      <td>1.18361</td>\n      <td>1.18625</td>\n      <td>1.17645</td>\n      <td>1.17745</td>\n      <td>241280</td>\n      <td>-0.520442</td>\n    </tr>\n    <tr>\n      <th>2017-12-15</th>\n      <td>1.17745</td>\n      <td>1.18123</td>\n      <td>1.17488</td>\n      <td>1.17492</td>\n      <td>200462</td>\n      <td>-0.214871</td>\n    </tr>\n    <tr>\n      <th>2017-12-17</th>\n      <td>1.17441</td>\n      <td>1.17509</td>\n      <td>1.17377</td>\n      <td>1.17432</td>\n      <td>8500</td>\n      <td>-0.007663</td>\n    </tr>\n    <tr>\n      <th>2017-12-18</th>\n      <td>1.17432</td>\n      <td>1.18342</td>\n      <td>1.17420</td>\n      <td>1.17837</td>\n      <td>199846</td>\n      <td>0.344880</td>\n    </tr>\n  </tbody>\n</table>\n</div>"
     },
     "execution_count": 248,
     "metadata": {},
     "output_type": "execute_result"
    }
   ],
   "source": [
    "# Utwórz serię danych zawierającą procentowy wzrost (lub spadek) kursu w danym dniu (jako różnicę Open i Close).\n",
    "grouped_df['PercentChange'] = ((grouped_df['Close'] - grouped_df['Open']) / grouped_df['Open']) * 100\n",
    "\n",
    "# grouped_df['PercentChange'] = grouped_df['PercentChange'].round(2).astype(str) + '%'\n",
    "\n",
    "grouped_df[['Open', 'High', 'Low', 'Close', 'Volume', 'PercentChange']].head()\n",
    "# grouped_df['PercentChange'].head()"
   ],
   "metadata": {
    "collapsed": false,
    "ExecuteTime": {
     "end_time": "2023-12-30T14:36:03.755050800Z",
     "start_time": "2023-12-30T14:36:03.736056600Z"
    }
   },
   "id": "f30076cbdaea6de8"
  },
  {
   "cell_type": "code",
   "execution_count": 249,
   "outputs": [
    {
     "name": "stdout",
     "output_type": "stream",
     "text": [
      "Średnia zmiana procentowa: -0.0023%\n",
      "Odchylenie standardowe zmiany procentowej: 0.3677%\n"
     ]
    }
   ],
   "source": [
    "# Oblicz średnią i odchylenie standardowe tej kolumny oraz narysuj histogram.\n",
    "mean_value = grouped_df['PercentChange'].mean()\n",
    "std_dev = grouped_df['PercentChange'].std()\n",
    "\n",
    "print(f\"Średnia zmiana procentowa: {mean_value:.4f}%\")\n",
    "print(f\"Odchylenie standardowe zmiany procentowej: {std_dev:.4f}%\")"
   ],
   "metadata": {
    "collapsed": false,
    "ExecuteTime": {
     "end_time": "2023-12-30T14:36:03.778206800Z",
     "start_time": "2023-12-30T14:36:03.751060900Z"
    }
   },
   "id": "31049294e42d9958"
  },
  {
   "cell_type": "code",
   "execution_count": 250,
   "outputs": [
    {
     "data": {
      "text/plain": "<Figure size 1000x600 with 1 Axes>",
      "image/png": "[encoded data removed]"
     },
     "metadata": {},
     "output_type": "display_data"
    }
   ],
   "source": [
    "import matplotlib.pyplot as plt \n",
    "\n",
    "grouped_df['PercentChange'].plot(kind='hist', bins=30, figsize=(10, 6), color='blue', edgecolor='black')\n",
    "plt.title('Histogram zmiany procentowej (dzień)')\n",
    "plt.xlabel('Procentowa zmiana')\n",
    "plt.ylabel('Częstotliwość')\n",
    "plt.show()"
   ],
   "metadata": {
    "collapsed": false,
    "ExecuteTime": {
     "end_time": "2023-12-30T14:36:04.011702Z",
     "start_time": "2023-12-30T14:36:03.768234Z"
    }
   },
   "id": "e84cb4aa91cda0a2"
  }
 ],
 "metadata": {
  "kernelspec": {
   "display_name": "Python 3",
   "language": "python",
   "name": "python3"
  },
  "language_info": {
   "codemirror_mode": {
    "name": "ipython",
    "version": 2
   },
   "file_extension": ".py",
   "mimetype": "text/x-python",
   "name": "python",
   "nbconvert_exporter": "python",
   "pygments_lexer": "ipython2",
   "version": "2.7.6"
  }
 },
 "nbformat": 4,
 "nbformat_minor": 5
}
